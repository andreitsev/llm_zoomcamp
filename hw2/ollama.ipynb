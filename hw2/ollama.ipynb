{
 "cells": [
  {
   "cell_type": "markdown",
   "metadata": {},
   "source": [
    "### Contents\n",
    "\n",
    "[Imports](#Imports)\n",
    "\n",
    "[bottom](#bottom)"
   ]
  },
  {
   "cell_type": "markdown",
   "metadata": {},
   "source": [
    "### Imports"
   ]
  },
  {
   "cell_type": "code",
   "execution_count": 1,
   "metadata": {},
   "outputs": [],
   "source": [
    "%load_ext autoreload\n",
    "%autoreload 2"
   ]
  },
  {
   "cell_type": "code",
   "execution_count": 2,
   "metadata": {},
   "outputs": [
    {
     "name": "stderr",
     "output_type": "stream",
     "text": [
      "/Users/antonandreytsev/llm_zoomcamp_venv3.9.7/lib/python3.9/site-packages/tqdm/auto.py:21: TqdmWarning: IProgress not found. Please update jupyter and ipywidgets. See https://ipywidgets.readthedocs.io/en/stable/user_install.html\n",
      "  from .autonotebook import tqdm as notebook_tqdm\n"
     ]
    }
   ],
   "source": [
    "import os\n",
    "from pprint import pprint\n",
    "import sys \n",
    "import json \n",
    "import itertools \n",
    "from tqdm.auto import tqdm\n",
    "from datetime import datetime, date, timedelta\n",
    "from load_dotenv import load_dotenv\n",
    "load_dotenv() # OPENAI_API_KEY\n",
    "\n",
    "import pandas as pd\n",
    "import numpy as np\n",
    "import matplotlib\n",
    "import matplotlib.pyplot as plt\n",
    "import seaborn as sns\n",
    "%matplotlib inline\n",
    "\n",
    "from IPython.display import display, clear_output"
   ]
  },
  {
   "cell_type": "code",
   "execution_count": 3,
   "metadata": {},
   "outputs": [],
   "source": [
    "matplotlib.rcParams['figure.figsize'] = (7, 7)\n",
    "sns.set_style('whitegrid')"
   ]
  },
  {
   "cell_type": "markdown",
   "metadata": {},
   "source": [
    "---"
   ]
  },
  {
   "cell_type": "code",
   "execution_count": 4,
   "metadata": {},
   "outputs": [],
   "source": [
    "import openai\n",
    "from openai import OpenAI"
   ]
  },
  {
   "cell_type": "code",
   "execution_count": 5,
   "metadata": {},
   "outputs": [],
   "source": [
    "# os.environ['OPENAI_API_KEY'] = 'xxxx'"
   ]
  },
  {
   "cell_type": "code",
   "execution_count": 6,
   "metadata": {},
   "outputs": [
    {
     "data": {
      "text/plain": [
       "<openai.OpenAI at 0x1033ef850>"
      ]
     },
     "execution_count": 6,
     "metadata": {},
     "output_type": "execute_result"
    }
   ],
   "source": [
    "client = OpenAI(\n",
    "    base_url='http://localhost:11434/v1/',\n",
    "    api_key='ollama',\n",
    ")\n",
    "client"
   ]
  },
  {
   "cell_type": "code",
   "execution_count": 7,
   "metadata": {},
   "outputs": [
    {
     "name": "stdout",
     "output_type": "stream",
     "text": [
      " The question of the purpose of human life has intrigued philosophers, theologians, scientists, and thinkers for centuries. It's a deeply personal and subjective inquiry that can vary greatly from person to person based on their beliefs, values, experiences, and aspirations. However, I can outline several perspectives through which one might find meaning or purpose in life:\n",
      "\n",
      "1. Philosophical perspective: Many philosophers have proposed various reasons for the purpose of human existence, such as seeking happiness, pursuing knowledge, achieving virtue, contributing to society's progress, and creating personal legacies. Existentialists like Jean-Paul Sartre or Albert Camus explored the idea that humans define their own purpose through free will and individual choice.\n",
      "\n",
      "2. Religious/spiritual perspective: Different religions offer various interpretations of life's purpose, such as fulfilling a divine plan, achieving spiritual enlightenment, fostering love and compassion towards others, or living in accordance with one's faith. For example, Christianity may suggest that the purpose is to follow God's teachings and cultivate a relationship with Him.\n",
      "\n",
      "3. Scientific perspective: From an evolutionary viewpoint, human life could be considered as having evolved to adapt to our surroundings for survival, reproduction, and passing on our genes to future generations. However, this scientific explanation doesn't necessarily answer the subjective meaning of purpose but rather explains how humans have come into existence through natural selection.\n",
      "\n",
      "4. Personal perspective: Ultimately, the purpose of life can be highly individualized, depending on personal values, interests, and aspirations. Some people may find meaning in their careers or creative pursuits, while others might prioritize relationships, altruism, or lifelong learning as essential components of a fulfilling existence.\n",
      "\n",
      "It's important to note that the search for life's purpose can be an ongoing and evolving process, where individuals grow through their experiences and adapt their understanding as they encounter new situations and ideas. In essence, there might not be one universal answer but instead multiple paths towards finding meaning in one's existence.\n"
     ]
    }
   ],
   "source": [
    "# q = 'What is the capital of Russia?'\n",
    "q = \"What is the purpose of human life?\"\n",
    "response = client.chat.completions.create(\n",
    "    model=\"phi3\",\n",
    "    messages=[{\"role\": \"user\", \"content\": q}]\n",
    ")\n",
    "response_content = response.choices[0].message.content\n",
    "print(response_content)"
   ]
  },
  {
   "cell_type": "code",
   "execution_count": 8,
   "metadata": {},
   "outputs": [
    {
     "name": "stdout",
     "output_type": "stream",
     "text": [
      "The purpose of human life is a profound and multifaceted question that has captivated philosophers, theologians, and individuals throughout history. There is no single, universally accepted answer, as the meaning of life is deeply personal and subjective.\n",
      "\n",
      "**Common perspectives on the purpose of human life include:**\n",
      "\n",
      "**1. Biological purpose:**\n",
      "\n",
      "* To perpetuate the human species and ensure the continuation of life on Earth.\n",
      "* To fulfill the biological instincts and desires that drive us, such as the need for food, reproduction, and survival.\n",
      "\n",
      "**2. Existentialist perspective:**\n",
      "\n",
      "* To explore and discover our own existence and meaning in a vast and indifferent universe.\n",
      "* To challenge the meaninglessness of existence and find our own purpose in the process of self-reflection.\n",
      "\n",
      "**3. Religious perspectives:**\n",
      "\n",
      "* To fulfill divine plans and achieve spiritual enlightenment.\n",
      "* To achieve forgiveness, redemption, and a deeper connection with a higher power.\n",
      "\n",
      "**4. Philosophical perspectives:**\n",
      "\n",
      "* To create something of value and leave a lasting legacy.\n",
      "* To contribute to the advancement of knowledge, art, or society.\n",
      "* To experience joy, love, and personal fulfilment.\n",
      "\n",
      "**5. Self-determined purpose:**\n",
      "\n",
      "* To define our own meaning and purpose based on our values, beliefs, and aspirations.\n",
      "* To pursue our passions and create a fulfilling life.\n",
      "* To live in accordance with our values and contribute to the betterment of humanity.\n",
      "\n",
      "**6. Utilitarian perspective:**\n",
      "\n",
      "* To maximise our happiness and satisfaction through achieving material and social goals.\n",
      "* To minimise pain and suffering and achieve a sense of fulfilment.\n",
      "\n",
      "**7. Meaning in relationships:**\n",
      "\n",
      "* To form meaningful connections with others and experience love, connection, and shared purpose.\n",
      "* To contribute to the well-being of our communities and make a difference in the world.\n",
      "\n",
      "**Ultimately, the purpose of human life is a question that each individual must answer for themselves. It is a journey of self-discovery, exploration, and growth that is unique to each person.**\n"
     ]
    }
   ],
   "source": [
    "q = \"What is the purpose of human life?\"\n",
    "response = client.chat.completions.create(\n",
    "    model=\"gemma:2b\",\n",
    "    messages=[{\"role\": \"user\", \"content\": q}]\n",
    ")\n",
    "response_content = response.choices[0].message.content\n",
    "print(response_content)"
   ]
  },
  {
   "cell_type": "code",
   "execution_count": null,
   "metadata": {},
   "outputs": [],
   "source": []
  },
  {
   "cell_type": "markdown",
   "metadata": {},
   "source": [
    "### bottom"
   ]
  }
 ],
 "metadata": {
  "kernelspec": {
   "display_name": "venv3.9.7",
   "language": "python",
   "name": "python3"
  },
  "language_info": {
   "codemirror_mode": {
    "name": "ipython",
    "version": 3
   },
   "file_extension": ".py",
   "mimetype": "text/x-python",
   "name": "python",
   "nbconvert_exporter": "python",
   "pygments_lexer": "ipython3",
   "version": "3.9.7"
  }
 },
 "nbformat": 4,
 "nbformat_minor": 2
}
